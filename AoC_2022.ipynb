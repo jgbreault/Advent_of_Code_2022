{
 "cells": [
  {
   "cell_type": "code",
   "execution_count": 76,
   "metadata": {},
   "outputs": [],
   "source": [
    "import numpy as np"
   ]
  },
  {
   "cell_type": "code",
   "execution_count": 2,
   "metadata": {},
   "outputs": [
    {
     "name": "stdout",
     "output_type": "stream",
     "text": [
      "71300\n",
      "209691\n"
     ]
    }
   ],
   "source": [
    "### D1-P1 and D1-P2\n",
    "\n",
    "elves = []\n",
    "elf = []\n",
    "with open(\"Day1.txt\",'r') as elfFood:\n",
    "    elfFood = elfFood.readlines()\n",
    "    for i, food in enumerate(elfFood):\n",
    "        if not food.isspace() :\n",
    "            elf.append(int(food.rstrip()))\n",
    "            \n",
    "            if i == len(elfFood)-1:\n",
    "                elves.append(elf)\n",
    "            \n",
    "        else:\n",
    "            elves.append(elf)\n",
    "            elf = []\n",
    "\n",
    "elves = [sum(elf) for elf in elves]\n",
    "elves = sorted(elves, reverse=True)\n",
    "\n",
    "print(max(elves))\n",
    "print(sum(elves[:3]))"
   ]
  },
  {
   "cell_type": "code",
   "execution_count": 3,
   "metadata": {},
   "outputs": [
    {
     "name": "stdout",
     "output_type": "stream",
     "text": [
      "9241\n"
     ]
    }
   ],
   "source": [
    "### D2-P1\n",
    "\n",
    "themOptions = [\"A\", \"B\", \"C\"]\n",
    "meOptions = [\"X\", \"Y\", \"Z\"]\n",
    "objects = [\"R\", \"P\", \"S\"]\n",
    "R, P, S = objects\n",
    "A, B, C = themOptions\n",
    "X, Y, Z = meOptions\n",
    "\n",
    "def tie(m, t):\n",
    "    return convertMeToObject(m) == convertThemToObject(t)\n",
    "\n",
    "def win(m, t):\n",
    "    m_c = convertMeToObject(m)\n",
    "    t_c = convertThemToObject(t)\n",
    "    return (m_c == R and t_c == S) or (m_c == S and t_c == P) or (m_c == P and t_c == R)\n",
    "    \n",
    "def convertThemToObject(t):\n",
    "    return objects[themOptions.index(t)]\n",
    "\n",
    "def convertMeToObject(m):\n",
    "    return objects[meOptions.index(m)]\n",
    "\n",
    "points = 0\n",
    "with open('Day2.txt','r') as rpsFile:\n",
    "    for rpsRound in rpsFile.readlines():\n",
    "        them = rpsRound[0]\n",
    "        me = rpsRound[2]\n",
    "\n",
    "        points += meOptions.index(me) + 1\n",
    "        if tie(me, them):\n",
    "            points += 3\n",
    "        elif win(me, them):\n",
    "            points += 6\n",
    "            \n",
    "print(points)"
   ]
  },
  {
   "cell_type": "code",
   "execution_count": 4,
   "metadata": {},
   "outputs": [
    {
     "name": "stdout",
     "output_type": "stream",
     "text": [
      "14610\n"
     ]
    }
   ],
   "source": [
    "### D2-P2\n",
    "\n",
    "points = 0\n",
    "with open('Day2.txt','r') as rpsFile:\n",
    "    for rpsRound in rpsFile.readlines():\n",
    "        them = rpsRound[0]\n",
    "        end = rpsRound[2]\n",
    "        \n",
    "        #YEET\n",
    "        if(end == X):\n",
    "            if(them == A):\n",
    "                me = Z\n",
    "            elif(them == B):\n",
    "                me = X\n",
    "            else:\n",
    "                me = Y\n",
    "        elif(end == Y):\n",
    "            if(them == A):\n",
    "                me = X\n",
    "            elif(them == B):\n",
    "                me = Y\n",
    "            else:\n",
    "                me = Z\n",
    "        else:\n",
    "            if(them == A):\n",
    "                me = Y\n",
    "            elif(them == B):\n",
    "                me = Z\n",
    "            else:\n",
    "                me = X\n",
    "\n",
    "        points += meOptions.index(me) + 1\n",
    "        if tie(me, them):\n",
    "            points += 3\n",
    "        elif win(me, them):\n",
    "            points += 6\n",
    "            \n",
    "print(points)"
   ]
  },
  {
   "cell_type": "code",
   "execution_count": 5,
   "metadata": {},
   "outputs": [
    {
     "name": "stdout",
     "output_type": "stream",
     "text": [
      "7763\n"
     ]
    }
   ],
   "source": [
    "### D3-P1\n",
    "\n",
    "alpha = ['a', 'b', 'c', 'd', 'e', 'f', 'g', 'h', 'i', 'j', 'k', 'l', 'm', 'n', 'o', 'p', 'q', 'r',\n",
    "         's', 't', 'u', 'v', 'w', 'x', 'y', 'z']\n",
    "alpha += [ch.upper() for ch in alpha]\n",
    "\n",
    "pSum = 0\n",
    "with open('Day3.txt','r') as file:\n",
    "    for line in file.readlines():\n",
    "        line = line.rstrip()\n",
    "        B1 = line[:int(len(line)/2)]\n",
    "        B2 = line[int(len(line)/2):]\n",
    "        \n",
    "        for item in B1:\n",
    "            if item in B2:\n",
    "                pSum += alpha.index(item) + 1\n",
    "                break\n",
    "\n",
    "print(pSum)"
   ]
  },
  {
   "cell_type": "code",
   "execution_count": 6,
   "metadata": {},
   "outputs": [
    {
     "name": "stdout",
     "output_type": "stream",
     "text": [
      "2569\n"
     ]
    }
   ],
   "source": [
    "### D3-P2\n",
    "\n",
    "pSum = 0\n",
    "elfGroup = []\n",
    "with open('Day3.txt','r') as file:\n",
    "    for i, line in enumerate(file.readlines()):\n",
    "        elfGroup.append(line)\n",
    "        \n",
    "        if i%3 == 2:\n",
    "            for item in elfGroup[0]:\n",
    "                if item in elfGroup[1] and item in elfGroup[2]:\n",
    "                    pSum += alpha.index(item) + 1\n",
    "                    elfGroup = []\n",
    "                    break\n",
    "\n",
    "print(pSum)"
   ]
  },
  {
   "cell_type": "code",
   "execution_count": 37,
   "metadata": {},
   "outputs": [
    {
     "name": "stdout",
     "output_type": "stream",
     "text": [
      "513\n"
     ]
    }
   ],
   "source": [
    "### D4-P1\n",
    "\n",
    "rangePairs = np.genfromtxt('Day4.txt', dtype=str, delimiter=',')\n",
    "overlappingPairs = 0\n",
    "\n",
    "for rangePair in rangePairs:\n",
    "    rangeL = rangePair[0].split('-')\n",
    "    LL = int(rangeL[0])\n",
    "    LR = int(rangeL[1])\n",
    "    rangeR = rangePair[1].split('-')\n",
    "    RL = int(rangeR[0])\n",
    "    RR = int(rangeR[1])\n",
    "    \n",
    "    if (LL <= RL and LR >= RR) or (LL >= RL and LR <= RR):\n",
    "        overlappingPairs += 1\n",
    "        \n",
    "print(overlappingPairs)"
   ]
  },
  {
   "cell_type": "code",
   "execution_count": 51,
   "metadata": {},
   "outputs": [
    {
     "name": "stdout",
     "output_type": "stream",
     "text": [
      "878\n"
     ]
    }
   ],
   "source": [
    "### D4-P2\n",
    "\n",
    "overlappingPairs = 0\n",
    "\n",
    "for rangePair in rangePairs:\n",
    "    rangeL = rangePair[0].split('-')\n",
    "    LL = int(rangeL[0])\n",
    "    LR = int(rangeL[1])\n",
    "    rangeR = rangePair[1].split('-')\n",
    "    RL = int(rangeR[0])\n",
    "    RR = int(rangeR[1])\n",
    "    \n",
    "    if LR >= RL and LL <= RR:\n",
    "        overlappingPairs += 1\n",
    "        \n",
    "print(overlappingPairs)"
   ]
  },
  {
   "cell_type": "code",
   "execution_count": 114,
   "metadata": {},
   "outputs": [
    {
     "name": "stdout",
     "output_type": "stream",
     "text": [
      "CWMTGHBDW\n"
     ]
    }
   ],
   "source": [
    "### D5-P1\n",
    "\n",
    "pSum = 0\n",
    "cratesProcessed = False\n",
    "crates = []\n",
    "\n",
    "with open('Day5.txt','r') as file:\n",
    "    for i, line in enumerate(file.readlines()):\n",
    "        if cratesProcessed == False:\n",
    "            cratesProcessed = line[1] == '1'\n",
    "            if cratesProcessed == False:\n",
    "                line = line[:-1]\n",
    "                \n",
    "                # 1 line of cheese\n",
    "                crates.append([line[1], line[5], line[9], line[13], line[17], line[21], line[25], line[29], line[33]])\n",
    "\n",
    "        elif line.isspace() == False:\n",
    "            lineSplit = line.split()\n",
    "            m = int(lineSplit[1])\n",
    "            f = int(lineSplit[3])\n",
    "            t = int(lineSplit[5])\n",
    "            \n",
    "            for move in range(0, m):\n",
    "                crates[t-1].append(crates[f-1].pop())\n",
    "                \n",
    "        else:\n",
    "            crates = np.array(crates).transpose().tolist()\n",
    "            crateShelf = []\n",
    "            for crate in crates:\n",
    "                while ' ' in crate:\n",
    "                    crate.remove(' ')\n",
    "                crateShelf.append(crate[::-1])\n",
    "            crates = crateShelf\n",
    "            \n",
    "crateTops = ''\n",
    "for crate in crates:\n",
    "    crateTops += crate[-1]\n",
    "\n",
    "print(crateTops)\n"
   ]
  },
  {
   "cell_type": "code",
   "execution_count": 143,
   "metadata": {},
   "outputs": [
    {
     "name": "stdout",
     "output_type": "stream",
     "text": [
      "SSCGWJCRB\n"
     ]
    }
   ],
   "source": [
    "### D5-P2\n",
    "\n",
    "pSum = 0\n",
    "cratesProcessed = False\n",
    "crates = []\n",
    "\n",
    "with open('Day5.txt','r') as file:\n",
    "    for i, line in enumerate(file.readlines()):\n",
    "        if cratesProcessed == False:\n",
    "            cratesProcessed = line[1] == '1'\n",
    "            if cratesProcessed == False:\n",
    "                line = line[:-1]\n",
    "                \n",
    "                # 1 line of cheese\n",
    "                crates.append([line[1], line[5], line[9], line[13], line[17], line[21], line[25], line[29], line[33]])\n",
    "\n",
    "        elif line.isspace() == False:\n",
    "            lineSplit = line.split()\n",
    "            m = int(lineSplit[1])\n",
    "            f = int(lineSplit[3])\n",
    "            t = int(lineSplit[5])\n",
    "                        \n",
    "            crates[t-1] += crates[f-1][-m:]\n",
    "            crates[f-1] = crates[f-1][:-m]\n",
    "           \n",
    "        else:\n",
    "            crates = np.array(crates).transpose().tolist()\n",
    "            crateShelf = []\n",
    "            for crate in crates:\n",
    "                while ' ' in crate:\n",
    "                    crate.remove(' ')\n",
    "                crateShelf.append(crate[::-1])\n",
    "            crates = crateShelf\n",
    "            \n",
    "crateTops = ''\n",
    "for crate in crates:\n",
    "    crateTops += crate[-1]\n",
    "\n",
    "print(crateTops)\n"
   ]
  },
  {
   "cell_type": "code",
   "execution_count": 25,
   "metadata": {},
   "outputs": [
    {
     "name": "stdout",
     "output_type": "stream",
     "text": [
      "1361\n"
     ]
    }
   ],
   "source": [
    "### D6-P1\n",
    "\n",
    "foundMarker = False\n",
    "markerSize = 4\n",
    "\n",
    "with open('Day6.txt','r') as file:\n",
    "    text = file.readline()\n",
    "    \n",
    "    i = 0\n",
    "    while foundMarker == False:\n",
    "        markerTest = text[i : i+markerSize]\n",
    "        foundMarker = len(set(markerTest)) == markerSize\n",
    "        i += 1\n",
    "\n",
    "print(i + markerSize - 1)"
   ]
  },
  {
   "cell_type": "code",
   "execution_count": 27,
   "metadata": {},
   "outputs": [
    {
     "name": "stdout",
     "output_type": "stream",
     "text": [
      "3263\n"
     ]
    }
   ],
   "source": [
    "### D6-P2\n",
    "\n",
    "foundMarker = False\n",
    "markerSize = 14\n",
    "\n",
    "with open('Day6.txt','r') as file:\n",
    "    text = file.readline()\n",
    "    \n",
    "    i = 0\n",
    "    while foundMarker == False:\n",
    "        markerTest = text[i : i+markerSize]\n",
    "        foundMarker = len(set(markerTest)) == markerSize\n",
    "        i += 1\n",
    "\n",
    "print(i + markerSize - 1)"
   ]
  },
  {
   "cell_type": "code",
   "execution_count": 2,
   "metadata": {},
   "outputs": [
    {
     "name": "stdout",
     "output_type": "stream",
     "text": [
      "95437\n"
     ]
    }
   ],
   "source": [
    "### D7P1\n",
    "\n",
    "directorySums = []\n",
    "\n",
    "with open('Day7.txt','r') as text:\n",
    "    textLines = text.readlines()\n",
    "    \n",
    "    for i, line in enumerate(textLines):\n",
    "        line = line.split()\n",
    "        \n",
    "        if line[1] == 'cd' and line[2] != '..':\n",
    "            directorySum = 0\n",
    "            \n",
    "            down = 0\n",
    "            up = 0\n",
    "            for line_ in textLines[i+2:]:\n",
    "                line_ = line_.split()\n",
    "\n",
    "                if len(line_) == 3 and line_[2] == '..':\n",
    "                    up += 1\n",
    "                    if up > down:\n",
    "                        break\n",
    "                    \n",
    "                elif line_[1] == 'cd':\n",
    "                    down += 1\n",
    "   \n",
    "                elif line_[0].isdigit():\n",
    "                    directorySum += int(line_[0])\n",
    "                    \n",
    "            directorySums.append(directorySum)\n",
    "\n",
    "total = 0\n",
    "for directorySum in directorySums:\n",
    "    if directorySum <= 100000:\n",
    "        total += directorySum\n",
    "print(total)"
   ]
  },
  {
   "cell_type": "code",
   "execution_count": 93,
   "metadata": {},
   "outputs": [
    {
     "name": "stdout",
     "output_type": "stream",
     "text": [
      "13520\n",
      "[['#' '#' '#' '.' '.' '.' '#' '#' '.' '.' '#' '#' '#' '.' '.' '#' '.' '.'\n",
      "  '#' '.' '#' '#' '#' '.' '.' '#' '#' '#' '#' '.' '.' '#' '#' '.' '.' '#'\n",
      "  '#' '#' '.' '.']\n",
      " ['#' '.' '.' '#' '.' '#' '.' '.' '#' '.' '#' '.' '.' '#' '.' '#' '.' '.'\n",
      "  '#' '.' '#' '.' '.' '#' '.' '#' '.' '.' '.' '.' '#' '.' '.' '#' '.' '#'\n",
      "  '.' '.' '#' '.']\n",
      " ['#' '.' '.' '#' '.' '#' '.' '.' '.' '.' '#' '.' '.' '#' '.' '#' '#' '#'\n",
      "  '#' '.' '#' '#' '#' '.' '.' '#' '#' '#' '.' '.' '#' '.' '.' '#' '.' '#'\n",
      "  '#' '#' '.' '.']\n",
      " ['#' '#' '#' '.' '.' '#' '.' '#' '#' '.' '#' '#' '#' '.' '.' '#' '.' '.'\n",
      "  '#' '.' '#' '.' '.' '#' '.' '#' '.' '.' '.' '.' '#' '#' '#' '#' '.' '#'\n",
      "  '.' '.' '#' '.']\n",
      " ['#' '.' '.' '.' '.' '#' '.' '.' '#' '.' '#' '.' '.' '.' '.' '#' '.' '.'\n",
      "  '#' '.' '#' '.' '.' '#' '.' '#' '.' '.' '.' '.' '#' '.' '.' '#' '.' '#'\n",
      "  '.' '.' '#' '.']\n",
      " ['#' '.' '.' '.' '.' '.' '#' '#' '#' '.' '#' '.' '.' '.' '.' '#' '.' '.'\n",
      "  '#' '.' '#' '#' '#' '.' '.' '#' '#' '#' '#' '.' '#' '.' '.' '#' '.' '#'\n",
      "  '#' '#' '.' '.']]\n"
     ]
    }
   ],
   "source": [
    "### D10-P1 and D10-P2\n",
    "\n",
    "with open('Day10.txt','r') as text:\n",
    "    textLines = text.readlines()\n",
    "    \n",
    "    X = [1]\n",
    "    image = []\n",
    "    for i, line in enumerate(textLines):\n",
    "        line = line.split()\n",
    "        \n",
    "        if line[0] == 'noop':\n",
    "            X.append(X[-1])\n",
    "        else:\n",
    "            X.append(X[-1])\n",
    "            X.append(X[-1] + int(line[1]))\n",
    "            \n",
    "X1 = [x*(i+1) for i, x in enumerate(X)]\n",
    "print(X1[19] + X1[59] + X1[99] + X1[139] + X1[179] + X1[219])\n",
    "\n",
    "\n",
    "image = []\n",
    "for i, x in enumerate(X):\n",
    "    if (i%40) in [x-1, x, x+1]:\n",
    "        image.append('#')\n",
    "    else:\n",
    "        image.append('.')\n",
    "        \n",
    "image.pop()\n",
    "print(np.array(image).reshape(6, 40))"
   ]
  },
  {
   "cell_type": "code",
   "execution_count": null,
   "metadata": {},
   "outputs": [],
   "source": []
  }
 ],
 "metadata": {
  "kernelspec": {
   "display_name": "Python 3",
   "language": "python",
   "name": "python3"
  },
  "language_info": {
   "codemirror_mode": {
    "name": "ipython",
    "version": 3
   },
   "file_extension": ".py",
   "mimetype": "text/x-python",
   "name": "python",
   "nbconvert_exporter": "python",
   "pygments_lexer": "ipython3",
   "version": "3.8.5"
  }
 },
 "nbformat": 4,
 "nbformat_minor": 4
}
