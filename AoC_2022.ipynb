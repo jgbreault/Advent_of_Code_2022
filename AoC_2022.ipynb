{
 "cells": [
  {
   "cell_type": "code",
   "execution_count": 48,
   "metadata": {},
   "outputs": [],
   "source": [
    "import numpy as np"
   ]
  },
  {
   "cell_type": "code",
   "execution_count": 152,
   "metadata": {},
   "outputs": [
    {
     "name": "stdout",
     "output_type": "stream",
     "text": [
      "71300\n",
      "209691\n"
     ]
    }
   ],
   "source": [
    "elves = []\n",
    "elf = []\n",
    "with open(\"elf_food.txt\",'r') as elfFood:\n",
    "    elfFood = elfFood.readlines()\n",
    "    for i, food in enumerate(elfFood):\n",
    "        if not food.isspace() :\n",
    "            elf.append(int(food.rstrip()))\n",
    "            \n",
    "            if i == len(elfFood)-1:\n",
    "                elves.append(elf)\n",
    "            \n",
    "        else:\n",
    "            elves.append(elf)\n",
    "            elf = []\n",
    "\n",
    "elves = [sum(elf) for elf in elves]\n",
    "elves = sorted(elves, reverse=True)\n",
    "\n",
    "print(max(elves))\n",
    "print(sum(elves[:3]))"
   ]
  },
  {
   "cell_type": "code",
   "execution_count": null,
   "metadata": {},
   "outputs": [],
   "source": []
  }
 ],
 "metadata": {
  "kernelspec": {
   "display_name": "Python 3",
   "language": "python",
   "name": "python3"
  },
  "language_info": {
   "codemirror_mode": {
    "name": "ipython",
    "version": 3
   },
   "file_extension": ".py",
   "mimetype": "text/x-python",
   "name": "python",
   "nbconvert_exporter": "python",
   "pygments_lexer": "ipython3",
   "version": "3.8.5"
  }
 },
 "nbformat": 4,
 "nbformat_minor": 4
}
