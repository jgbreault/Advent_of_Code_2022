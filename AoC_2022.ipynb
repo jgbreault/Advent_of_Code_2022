{
 "cells": [
  {
   "cell_type": "code",
   "execution_count": 48,
   "metadata": {},
   "outputs": [],
   "source": [
    "import numpy as np"
   ]
  },
  {
   "cell_type": "code",
   "execution_count": 152,
   "metadata": {},
   "outputs": [
    {
     "name": "stdout",
     "output_type": "stream",
     "text": [
      "71300\n",
      "209691\n"
     ]
    }
   ],
   "source": [
    "elves = []\n",
    "elf = []\n",
    "with open(\"elf_food.txt\",'r') as elfFood:\n",
    "    elfFood = elfFood.readlines()\n",
    "    for i, food in enumerate(elfFood):\n",
    "        if not food.isspace() :\n",
    "            elf.append(int(food.rstrip()))\n",
    "            \n",
    "            if i == len(elfFood)-1:\n",
    "                elves.append(elf)\n",
    "            \n",
    "        else:\n",
    "            elves.append(elf)\n",
    "            elf = []\n",
    "\n",
    "elves = [sum(elf) for elf in elves]\n",
    "elves = sorted(elves, reverse=True)\n",
    "\n",
    "print(max(elves))\n",
    "print(sum(elves[:3]))"
   ]
  },
  {
   "cell_type": "code",
   "execution_count": 85,
   "metadata": {},
   "outputs": [
    {
     "name": "stdout",
     "output_type": "stream",
     "text": [
      "9241\n"
     ]
    }
   ],
   "source": [
    "themOptions = [\"A\", \"B\", \"C\"]\n",
    "meOptions = [\"X\", \"Y\", \"Z\"]\n",
    "objects = [\"R\", \"P\", \"S\"]\n",
    "R = objects[0]\n",
    "P = objects[1]\n",
    "S = objects[2]\n",
    "A = themOptions[0]\n",
    "B = themOptions[1]\n",
    "C = themOptions[2]\n",
    "X = meOptions[0]\n",
    "Y = meOptions[1]\n",
    "Z = meOptions[2]\n",
    "\n",
    "def tie(m, t):\n",
    "    return convertMeToObject(m) == convertThemToObject(t)\n",
    "\n",
    "def win(m, t):\n",
    "    m_c = convertMeToObject(m)\n",
    "    t_c = convertThemToObject(t)\n",
    "    return (m_c == R and t_c == S) or (m_c == S and t_c == P) or (m_c == P and t_c == R)\n",
    "    \n",
    "def convertThemToObject(t):\n",
    "    return objects[themOptions.index(t)]\n",
    "\n",
    "def convertMeToObject(m):\n",
    "    return objects[meOptions.index(m)]\n",
    "\n",
    "points = 0\n",
    "with open('rps.txt','r') as rpsFile:\n",
    "    for i, rpsRound in enumerate(rpsFile.readlines()):\n",
    "        them = rpsRound[0]\n",
    "        me = rpsRound[2]\n",
    "\n",
    "        points += meOptions.index(me) + 1\n",
    "        if tie(me, them):\n",
    "            points += 3\n",
    "        elif win(me, them):\n",
    "            points += 6\n",
    "            \n",
    "print(points)"
   ]
  },
  {
   "cell_type": "code",
   "execution_count": 84,
   "metadata": {},
   "outputs": [
    {
     "name": "stdout",
     "output_type": "stream",
     "text": [
      "14610\n"
     ]
    }
   ],
   "source": [
    "points = 0\n",
    "with open('rps.txt','r') as rpsFile:\n",
    "    for i, rpsRound in enumerate(rpsFile.readlines()):\n",
    "        them = rpsRound[0]\n",
    "        end = rpsRound[2]\n",
    "        \n",
    "        #YEET\n",
    "        if(end == X):\n",
    "            if(them == A):\n",
    "                me = Z\n",
    "            elif(them == B):\n",
    "                me = X\n",
    "            else:\n",
    "                me = Y\n",
    "        elif(end == Y):\n",
    "            if(them == A):\n",
    "                me = X\n",
    "            elif(them == B):\n",
    "                me = Y\n",
    "            else:\n",
    "                me = Z\n",
    "        else:\n",
    "            if(them == A):\n",
    "                me = Y\n",
    "            elif(them == B):\n",
    "                me = Z\n",
    "            else:\n",
    "                me = X\n",
    "\n",
    "        points += meOptions.index(me) + 1\n",
    "        if tie(me, them):\n",
    "            points += 3\n",
    "        elif win(me, them):\n",
    "            points += 6\n",
    "            \n",
    "print(points)"
   ]
  },
  {
   "cell_type": "code",
   "execution_count": null,
   "metadata": {},
   "outputs": [],
   "source": []
  }
 ],
 "metadata": {
  "kernelspec": {
   "display_name": "Python 3",
   "language": "python",
   "name": "python3"
  },
  "language_info": {
   "codemirror_mode": {
    "name": "ipython",
    "version": 3
   },
   "file_extension": ".py",
   "mimetype": "text/x-python",
   "name": "python",
   "nbconvert_exporter": "python",
   "pygments_lexer": "ipython3",
   "version": "3.8.5"
  }
 },
 "nbformat": 4,
 "nbformat_minor": 4
}
